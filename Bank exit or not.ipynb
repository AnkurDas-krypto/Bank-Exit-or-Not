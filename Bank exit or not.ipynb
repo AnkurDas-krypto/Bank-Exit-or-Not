{
 "cells": [
  {
   "cell_type": "code",
   "execution_count": 1,
   "id": "03a253e5",
   "metadata": {},
   "outputs": [],
   "source": [
    "# Importing the libraries\n",
    "import numpy as np\n",
    "import matplotlib.pyplot as plt\n",
    "import pandas as pd"
   ]
  },
  {
   "cell_type": "code",
   "execution_count": 2,
   "id": "a4bbf149",
   "metadata": {},
   "outputs": [],
   "source": [
    "# Importing the dataset\n",
    "dataset = pd.read_csv('Churn_Modelling.csv')\n",
    "X = dataset.iloc[:, 3:13]\n",
    "y = dataset.iloc[:, 13]"
   ]
  },
  {
   "cell_type": "code",
   "execution_count": 36,
   "id": "ab74a5d5",
   "metadata": {},
   "outputs": [
    {
     "data": {
      "text/html": [
       "<div>\n",
       "<style scoped>\n",
       "    .dataframe tbody tr th:only-of-type {\n",
       "        vertical-align: middle;\n",
       "    }\n",
       "\n",
       "    .dataframe tbody tr th {\n",
       "        vertical-align: top;\n",
       "    }\n",
       "\n",
       "    .dataframe thead th {\n",
       "        text-align: right;\n",
       "    }\n",
       "</style>\n",
       "<table border=\"1\" class=\"dataframe\">\n",
       "  <thead>\n",
       "    <tr style=\"text-align: right;\">\n",
       "      <th></th>\n",
       "      <th>RowNumber</th>\n",
       "      <th>CustomerId</th>\n",
       "      <th>Surname</th>\n",
       "      <th>CreditScore</th>\n",
       "      <th>Geography</th>\n",
       "      <th>Gender</th>\n",
       "      <th>Age</th>\n",
       "      <th>Tenure</th>\n",
       "      <th>Balance</th>\n",
       "      <th>NumOfProducts</th>\n",
       "      <th>HasCrCard</th>\n",
       "      <th>IsActiveMember</th>\n",
       "      <th>EstimatedSalary</th>\n",
       "      <th>Exited</th>\n",
       "    </tr>\n",
       "  </thead>\n",
       "  <tbody>\n",
       "    <tr>\n",
       "      <th>0</th>\n",
       "      <td>1</td>\n",
       "      <td>15634602</td>\n",
       "      <td>Hargrave</td>\n",
       "      <td>619</td>\n",
       "      <td>France</td>\n",
       "      <td>Female</td>\n",
       "      <td>42</td>\n",
       "      <td>2</td>\n",
       "      <td>0.00</td>\n",
       "      <td>1</td>\n",
       "      <td>1</td>\n",
       "      <td>1</td>\n",
       "      <td>101348.88</td>\n",
       "      <td>1</td>\n",
       "    </tr>\n",
       "    <tr>\n",
       "      <th>1</th>\n",
       "      <td>2</td>\n",
       "      <td>15647311</td>\n",
       "      <td>Hill</td>\n",
       "      <td>608</td>\n",
       "      <td>Spain</td>\n",
       "      <td>Female</td>\n",
       "      <td>41</td>\n",
       "      <td>1</td>\n",
       "      <td>83807.86</td>\n",
       "      <td>1</td>\n",
       "      <td>0</td>\n",
       "      <td>1</td>\n",
       "      <td>112542.58</td>\n",
       "      <td>0</td>\n",
       "    </tr>\n",
       "    <tr>\n",
       "      <th>2</th>\n",
       "      <td>3</td>\n",
       "      <td>15619304</td>\n",
       "      <td>Onio</td>\n",
       "      <td>502</td>\n",
       "      <td>France</td>\n",
       "      <td>Female</td>\n",
       "      <td>42</td>\n",
       "      <td>8</td>\n",
       "      <td>159660.80</td>\n",
       "      <td>3</td>\n",
       "      <td>1</td>\n",
       "      <td>0</td>\n",
       "      <td>113931.57</td>\n",
       "      <td>1</td>\n",
       "    </tr>\n",
       "  </tbody>\n",
       "</table>\n",
       "</div>"
      ],
      "text/plain": [
       "   RowNumber  CustomerId   Surname  CreditScore Geography  Gender  Age  \\\n",
       "0          1    15634602  Hargrave          619    France  Female   42   \n",
       "1          2    15647311      Hill          608     Spain  Female   41   \n",
       "2          3    15619304      Onio          502    France  Female   42   \n",
       "\n",
       "   Tenure    Balance  NumOfProducts  HasCrCard  IsActiveMember  \\\n",
       "0       2       0.00              1          1               1   \n",
       "1       1   83807.86              1          0               1   \n",
       "2       8  159660.80              3          1               0   \n",
       "\n",
       "   EstimatedSalary  Exited  \n",
       "0        101348.88       1  \n",
       "1        112542.58       0  \n",
       "2        113931.57       1  "
      ]
     },
     "execution_count": 36,
     "metadata": {},
     "output_type": "execute_result"
    }
   ],
   "source": [
    "dataset.head(3)"
   ]
  },
  {
   "cell_type": "code",
   "execution_count": 41,
   "id": "5383c6ab",
   "metadata": {},
   "outputs": [
    {
     "data": {
      "text/plain": [
       "Index(['RowNumber', 'CustomerId', 'Surname', 'CreditScore', 'Geography',\n",
       "       'Gender', 'Age', 'Tenure', 'Balance', 'NumOfProducts', 'HasCrCard',\n",
       "       'IsActiveMember', 'EstimatedSalary', 'Exited'],\n",
       "      dtype='object')"
      ]
     },
     "execution_count": 41,
     "metadata": {},
     "output_type": "execute_result"
    }
   ],
   "source": [
    "dataset.columns"
   ]
  },
  {
   "cell_type": "code",
   "execution_count": 3,
   "id": "94febe65",
   "metadata": {},
   "outputs": [],
   "source": [
    "#Create dummy variables\n",
    "geography=pd.get_dummies(X[\"Geography\"],drop_first=True)\n",
    "gender=pd.get_dummies(X['Gender'],drop_first=True)"
   ]
  },
  {
   "cell_type": "code",
   "execution_count": 4,
   "id": "e3500364",
   "metadata": {},
   "outputs": [],
   "source": [
    "X=pd.concat([X,geography,gender],axis=1)"
   ]
  },
  {
   "cell_type": "code",
   "execution_count": 5,
   "id": "32d3555a",
   "metadata": {},
   "outputs": [],
   "source": [
    "## Drop Unnecessary columns\n",
    "X=X.drop(['Geography','Gender'],axis=1)"
   ]
  },
  {
   "cell_type": "code",
   "execution_count": 6,
   "id": "bf176a72",
   "metadata": {},
   "outputs": [
    {
     "data": {
      "text/html": [
       "<div>\n",
       "<style scoped>\n",
       "    .dataframe tbody tr th:only-of-type {\n",
       "        vertical-align: middle;\n",
       "    }\n",
       "\n",
       "    .dataframe tbody tr th {\n",
       "        vertical-align: top;\n",
       "    }\n",
       "\n",
       "    .dataframe thead th {\n",
       "        text-align: right;\n",
       "    }\n",
       "</style>\n",
       "<table border=\"1\" class=\"dataframe\">\n",
       "  <thead>\n",
       "    <tr style=\"text-align: right;\">\n",
       "      <th></th>\n",
       "      <th>CreditScore</th>\n",
       "      <th>Age</th>\n",
       "      <th>Tenure</th>\n",
       "      <th>Balance</th>\n",
       "      <th>NumOfProducts</th>\n",
       "      <th>HasCrCard</th>\n",
       "      <th>IsActiveMember</th>\n",
       "      <th>EstimatedSalary</th>\n",
       "      <th>Germany</th>\n",
       "      <th>Spain</th>\n",
       "      <th>Male</th>\n",
       "    </tr>\n",
       "  </thead>\n",
       "  <tbody>\n",
       "    <tr>\n",
       "      <th>0</th>\n",
       "      <td>619</td>\n",
       "      <td>42</td>\n",
       "      <td>2</td>\n",
       "      <td>0.00</td>\n",
       "      <td>1</td>\n",
       "      <td>1</td>\n",
       "      <td>1</td>\n",
       "      <td>101348.88</td>\n",
       "      <td>0</td>\n",
       "      <td>0</td>\n",
       "      <td>0</td>\n",
       "    </tr>\n",
       "    <tr>\n",
       "      <th>1</th>\n",
       "      <td>608</td>\n",
       "      <td>41</td>\n",
       "      <td>1</td>\n",
       "      <td>83807.86</td>\n",
       "      <td>1</td>\n",
       "      <td>0</td>\n",
       "      <td>1</td>\n",
       "      <td>112542.58</td>\n",
       "      <td>0</td>\n",
       "      <td>1</td>\n",
       "      <td>0</td>\n",
       "    </tr>\n",
       "    <tr>\n",
       "      <th>2</th>\n",
       "      <td>502</td>\n",
       "      <td>42</td>\n",
       "      <td>8</td>\n",
       "      <td>159660.80</td>\n",
       "      <td>3</td>\n",
       "      <td>1</td>\n",
       "      <td>0</td>\n",
       "      <td>113931.57</td>\n",
       "      <td>0</td>\n",
       "      <td>0</td>\n",
       "      <td>0</td>\n",
       "    </tr>\n",
       "  </tbody>\n",
       "</table>\n",
       "</div>"
      ],
      "text/plain": [
       "   CreditScore  Age  Tenure    Balance  NumOfProducts  HasCrCard  \\\n",
       "0          619   42       2       0.00              1          1   \n",
       "1          608   41       1   83807.86              1          0   \n",
       "2          502   42       8  159660.80              3          1   \n",
       "\n",
       "   IsActiveMember  EstimatedSalary  Germany  Spain  Male  \n",
       "0               1        101348.88        0      0     0  \n",
       "1               1        112542.58        0      1     0  \n",
       "2               0        113931.57        0      0     0  "
      ]
     },
     "execution_count": 6,
     "metadata": {},
     "output_type": "execute_result"
    }
   ],
   "source": [
    "X.head(3)"
   ]
  },
  {
   "cell_type": "code",
   "execution_count": 7,
   "id": "9cf78dc3",
   "metadata": {},
   "outputs": [],
   "source": [
    "# Splitting the dataset into the Training set and Test set\n",
    "from sklearn.model_selection import train_test_split\n",
    "X_train, X_test, y_train, y_test = train_test_split(X, y, test_size = 0.2, random_state = 0)"
   ]
  },
  {
   "cell_type": "code",
   "execution_count": 8,
   "id": "4b5f3d70",
   "metadata": {},
   "outputs": [],
   "source": [
    "# Feature Scaling\n",
    "from sklearn.preprocessing import StandardScaler\n",
    "sc = StandardScaler()\n",
    "X_train = sc.fit_transform(X_train)\n",
    "X_test = sc.transform(X_test)"
   ]
  },
  {
   "cell_type": "markdown",
   "id": "d5a87aa2",
   "metadata": {},
   "source": [
    "# ANN starts"
   ]
  },
  {
   "cell_type": "code",
   "execution_count": 9,
   "id": "1dbbdf19",
   "metadata": {},
   "outputs": [],
   "source": [
    "# Importing the Keras libraries and packages\n",
    "import keras\n",
    "from keras.models import Sequential\n",
    "from keras.layers import Dense\n",
    "from keras.layers import LeakyReLU,PReLU,ELU\n",
    "from keras.layers import Dropout"
   ]
  },
  {
   "cell_type": "code",
   "execution_count": 10,
   "id": "d2ee524f",
   "metadata": {},
   "outputs": [],
   "source": [
    "# Initialising the ANN\n",
    "classifier = Sequential()\n",
    "\n",
    "# Adding the input layer and the first hidden layer\n",
    "classifier.add(Dense(units = 6, kernel_initializer = 'he_uniform',activation='relu',input_dim = 11))\n",
    "\n",
    "# Adding the second hidden layer\n",
    "classifier.add(Dense(units = 6, kernel_initializer = 'he_uniform',activation='relu'))\n",
    "# Adding the output layer\n",
    "classifier.add(Dense(units = 1, kernel_initializer = 'glorot_uniform', activation = 'sigmoid'))"
   ]
  },
  {
   "cell_type": "code",
   "execution_count": 11,
   "id": "bad66b73",
   "metadata": {},
   "outputs": [],
   "source": [
    "# Compiling the ANN\n",
    "classifier.compile(optimizer = 'adam', loss = 'binary_crossentropy', metrics = ['accuracy'])"
   ]
  },
  {
   "cell_type": "code",
   "execution_count": 12,
   "id": "edb1573a",
   "metadata": {},
   "outputs": [
    {
     "name": "stdout",
     "output_type": "stream",
     "text": [
      "Epoch 1/100\n",
      "536/536 [==============================] - 12s 2ms/step - loss: 0.5300 - accuracy: 0.7914 - val_loss: 0.4918 - val_accuracy: 0.7955\n",
      "Epoch 2/100\n",
      "536/536 [==============================] - 1s 977us/step - loss: 0.4767 - accuracy: 0.7982 - val_loss: 0.4655 - val_accuracy: 0.7955\n",
      "Epoch 3/100\n",
      "536/536 [==============================] - 1s 1ms/step - loss: 0.4528 - accuracy: 0.8048 - val_loss: 0.4529 - val_accuracy: 0.7955\n",
      "Epoch 4/100\n",
      "536/536 [==============================] - 1s 937us/step - loss: 0.4544 - accuracy: 0.7944 - val_loss: 0.4466 - val_accuracy: 0.7955\n",
      "Epoch 5/100\n",
      "536/536 [==============================] - 1s 1ms/step - loss: 0.4493 - accuracy: 0.7870 - val_loss: 0.4429 - val_accuracy: 0.7955\n",
      "Epoch 6/100\n",
      "536/536 [==============================] - 1s 1ms/step - loss: 0.4290 - accuracy: 0.8021 - val_loss: 0.4401 - val_accuracy: 0.7955\n",
      "Epoch 7/100\n",
      "536/536 [==============================] - 1s 1ms/step - loss: 0.4437 - accuracy: 0.7933 - val_loss: 0.4368 - val_accuracy: 0.7936\n",
      "Epoch 8/100\n",
      "536/536 [==============================] - 0s 929us/step - loss: 0.4241 - accuracy: 0.7993 - val_loss: 0.4338 - val_accuracy: 0.8061\n",
      "Epoch 9/100\n",
      "536/536 [==============================] - 1s 992us/step - loss: 0.4320 - accuracy: 0.8051 - val_loss: 0.4308 - val_accuracy: 0.8133\n",
      "Epoch 10/100\n",
      "536/536 [==============================] - 1s 1ms/step - loss: 0.4222 - accuracy: 0.8178 - val_loss: 0.4276 - val_accuracy: 0.8145\n",
      "Epoch 11/100\n",
      "536/536 [==============================] - 0s 907us/step - loss: 0.4221 - accuracy: 0.8122 - val_loss: 0.4234 - val_accuracy: 0.8160\n",
      "Epoch 12/100\n",
      "536/536 [==============================] - 1s 923us/step - loss: 0.4017 - accuracy: 0.8298 - val_loss: 0.4202 - val_accuracy: 0.8228\n",
      "Epoch 13/100\n",
      "536/536 [==============================] - 0s 916us/step - loss: 0.4052 - accuracy: 0.8266 - val_loss: 0.4184 - val_accuracy: 0.8232\n",
      "Epoch 14/100\n",
      "536/536 [==============================] - 0s 930us/step - loss: 0.4136 - accuracy: 0.8286 - val_loss: 0.4169 - val_accuracy: 0.8213\n",
      "Epoch 15/100\n",
      "536/536 [==============================] - 0s 904us/step - loss: 0.4054 - accuracy: 0.8282 - val_loss: 0.4143 - val_accuracy: 0.8224\n",
      "Epoch 16/100\n",
      "536/536 [==============================] - 0s 913us/step - loss: 0.3958 - accuracy: 0.8263 - val_loss: 0.4127 - val_accuracy: 0.8232\n",
      "Epoch 17/100\n",
      "536/536 [==============================] - 0s 930us/step - loss: 0.4051 - accuracy: 0.8207 - val_loss: 0.4115 - val_accuracy: 0.8232\n",
      "Epoch 18/100\n",
      "536/536 [==============================] - 1s 937us/step - loss: 0.3990 - accuracy: 0.8287 - val_loss: 0.4101 - val_accuracy: 0.8243\n",
      "Epoch 19/100\n",
      "536/536 [==============================] - 0s 909us/step - loss: 0.3936 - accuracy: 0.8326 - val_loss: 0.4087 - val_accuracy: 0.8243\n",
      "Epoch 20/100\n",
      "536/536 [==============================] - 1s 927us/step - loss: 0.3849 - accuracy: 0.8395 - val_loss: 0.4091 - val_accuracy: 0.8243\n",
      "Epoch 21/100\n",
      "536/536 [==============================] - 0s 917us/step - loss: 0.4003 - accuracy: 0.8262 - val_loss: 0.4070 - val_accuracy: 0.8228\n",
      "Epoch 22/100\n",
      "536/536 [==============================] - 1s 950us/step - loss: 0.3955 - accuracy: 0.8295 - val_loss: 0.4059 - val_accuracy: 0.8243\n",
      "Epoch 23/100\n",
      "536/536 [==============================] - 0s 933us/step - loss: 0.3962 - accuracy: 0.8273 - val_loss: 0.4048 - val_accuracy: 0.8228\n",
      "Epoch 24/100\n",
      "536/536 [==============================] - 1s 949us/step - loss: 0.3877 - accuracy: 0.8350 - val_loss: 0.4025 - val_accuracy: 0.8232\n",
      "Epoch 25/100\n",
      "536/536 [==============================] - 0s 921us/step - loss: 0.3673 - accuracy: 0.8449 - val_loss: 0.4009 - val_accuracy: 0.8217\n",
      "Epoch 26/100\n",
      "536/536 [==============================] - 0s 904us/step - loss: 0.3680 - accuracy: 0.8435 - val_loss: 0.3977 - val_accuracy: 0.8247\n",
      "Epoch 27/100\n",
      "536/536 [==============================] - 1s 916us/step - loss: 0.3711 - accuracy: 0.8359 - val_loss: 0.3954 - val_accuracy: 0.8254\n",
      "Epoch 28/100\n",
      "536/536 [==============================] - 0s 925us/step - loss: 0.3643 - accuracy: 0.8357 - val_loss: 0.3930 - val_accuracy: 0.8311\n",
      "Epoch 29/100\n",
      "536/536 [==============================] - 1s 928us/step - loss: 0.3659 - accuracy: 0.8474 - val_loss: 0.3889 - val_accuracy: 0.8304\n",
      "Epoch 30/100\n",
      "536/536 [==============================] - 1s 940us/step - loss: 0.3536 - accuracy: 0.8520 - val_loss: 0.3861 - val_accuracy: 0.8334\n",
      "Epoch 31/100\n",
      "536/536 [==============================] - 1s 931us/step - loss: 0.3572 - accuracy: 0.8505 - val_loss: 0.3828 - val_accuracy: 0.8379\n",
      "Epoch 32/100\n",
      "536/536 [==============================] - 0s 910us/step - loss: 0.3549 - accuracy: 0.8527 - val_loss: 0.3811 - val_accuracy: 0.8379\n",
      "Epoch 33/100\n",
      "536/536 [==============================] - 1s 927us/step - loss: 0.3562 - accuracy: 0.8499 - val_loss: 0.3793 - val_accuracy: 0.8398\n",
      "Epoch 34/100\n",
      "536/536 [==============================] - 1s 938us/step - loss: 0.3548 - accuracy: 0.8513 - val_loss: 0.3784 - val_accuracy: 0.8421\n",
      "Epoch 35/100\n",
      "536/536 [==============================] - 1s 939us/step - loss: 0.3649 - accuracy: 0.8485 - val_loss: 0.3782 - val_accuracy: 0.8379\n",
      "Epoch 36/100\n",
      "536/536 [==============================] - 0s 908us/step - loss: 0.3638 - accuracy: 0.8496 - val_loss: 0.3763 - val_accuracy: 0.8432\n",
      "Epoch 37/100\n",
      "536/536 [==============================] - 0s 918us/step - loss: 0.3514 - accuracy: 0.8524 - val_loss: 0.3744 - val_accuracy: 0.8417\n",
      "Epoch 38/100\n",
      "536/536 [==============================] - 0s 920us/step - loss: 0.3554 - accuracy: 0.8540 - val_loss: 0.3739 - val_accuracy: 0.8421\n",
      "Epoch 39/100\n",
      "536/536 [==============================] - 1s 914us/step - loss: 0.3367 - accuracy: 0.8616 - val_loss: 0.3735 - val_accuracy: 0.8470\n",
      "Epoch 40/100\n",
      "536/536 [==============================] - 1s 950us/step - loss: 0.3413 - accuracy: 0.8588 - val_loss: 0.3734 - val_accuracy: 0.8451\n",
      "Epoch 41/100\n",
      "536/536 [==============================] - 1s 1ms/step - loss: 0.3694 - accuracy: 0.8416 - val_loss: 0.3729 - val_accuracy: 0.8455\n",
      "Epoch 42/100\n",
      "536/536 [==============================] - 1s 948us/step - loss: 0.3447 - accuracy: 0.8632 - val_loss: 0.3717 - val_accuracy: 0.8478\n",
      "Epoch 43/100\n",
      "536/536 [==============================] - 0s 904us/step - loss: 0.3519 - accuracy: 0.8588 - val_loss: 0.3723 - val_accuracy: 0.8504\n",
      "Epoch 44/100\n",
      "536/536 [==============================] - 1s 920us/step - loss: 0.3633 - accuracy: 0.8470 - val_loss: 0.3722 - val_accuracy: 0.8474\n",
      "Epoch 45/100\n",
      "536/536 [==============================] - 1s 935us/step - loss: 0.3560 - accuracy: 0.8547 - val_loss: 0.3716 - val_accuracy: 0.8489\n",
      "Epoch 46/100\n",
      "536/536 [==============================] - 0s 929us/step - loss: 0.3454 - accuracy: 0.8559 - val_loss: 0.3721 - val_accuracy: 0.8489\n",
      "Epoch 47/100\n",
      "536/536 [==============================] - 0s 911us/step - loss: 0.3615 - accuracy: 0.8506 - val_loss: 0.3697 - val_accuracy: 0.8482\n",
      "Epoch 48/100\n",
      "536/536 [==============================] - 0s 920us/step - loss: 0.3672 - accuracy: 0.8386 - val_loss: 0.3687 - val_accuracy: 0.8466\n",
      "Epoch 49/100\n",
      "536/536 [==============================] - 0s 923us/step - loss: 0.3487 - accuracy: 0.8595 - val_loss: 0.3673 - val_accuracy: 0.8466\n",
      "Epoch 50/100\n",
      "536/536 [==============================] - 1s 967us/step - loss: 0.3396 - accuracy: 0.8580 - val_loss: 0.3699 - val_accuracy: 0.8444\n",
      "Epoch 51/100\n",
      "536/536 [==============================] - 0s 909us/step - loss: 0.3405 - accuracy: 0.8574 - val_loss: 0.3694 - val_accuracy: 0.8466\n",
      "Epoch 52/100\n",
      "536/536 [==============================] - 1s 932us/step - loss: 0.3476 - accuracy: 0.8586 - val_loss: 0.3674 - val_accuracy: 0.8436\n",
      "Epoch 53/100\n",
      "536/536 [==============================] - 0s 924us/step - loss: 0.3312 - accuracy: 0.8673 - val_loss: 0.3682 - val_accuracy: 0.8455\n",
      "Epoch 54/100\n",
      "536/536 [==============================] - 1s 941us/step - loss: 0.3382 - accuracy: 0.8565 - val_loss: 0.3680 - val_accuracy: 0.8466\n",
      "Epoch 55/100\n",
      "536/536 [==============================] - 0s 928us/step - loss: 0.3298 - accuracy: 0.8617 - val_loss: 0.3651 - val_accuracy: 0.8466\n",
      "Epoch 56/100\n",
      "536/536 [==============================] - 0s 932us/step - loss: 0.3406 - accuracy: 0.8615 - val_loss: 0.3675 - val_accuracy: 0.8448\n",
      "Epoch 57/100\n"
     ]
    },
    {
     "name": "stdout",
     "output_type": "stream",
     "text": [
      "536/536 [==============================] - 0s 899us/step - loss: 0.3426 - accuracy: 0.8588 - val_loss: 0.3651 - val_accuracy: 0.8482\n",
      "Epoch 58/100\n",
      "536/536 [==============================] - 0s 922us/step - loss: 0.3335 - accuracy: 0.8632 - val_loss: 0.3659 - val_accuracy: 0.8489\n",
      "Epoch 59/100\n",
      "536/536 [==============================] - 0s 908us/step - loss: 0.3251 - accuracy: 0.8710 - val_loss: 0.3637 - val_accuracy: 0.8474\n",
      "Epoch 60/100\n",
      "536/536 [==============================] - 1s 965us/step - loss: 0.3568 - accuracy: 0.8567 - val_loss: 0.3665 - val_accuracy: 0.8470\n",
      "Epoch 61/100\n",
      "536/536 [==============================] - 0s 900us/step - loss: 0.3381 - accuracy: 0.8592 - val_loss: 0.3659 - val_accuracy: 0.8493\n",
      "Epoch 62/100\n",
      "536/536 [==============================] - 1s 924us/step - loss: 0.3425 - accuracy: 0.8592 - val_loss: 0.3646 - val_accuracy: 0.8508\n",
      "Epoch 63/100\n",
      "536/536 [==============================] - 0s 911us/step - loss: 0.3350 - accuracy: 0.8614 - val_loss: 0.3645 - val_accuracy: 0.8501\n",
      "Epoch 64/100\n",
      "536/536 [==============================] - 1s 926us/step - loss: 0.3281 - accuracy: 0.8650 - val_loss: 0.3642 - val_accuracy: 0.8527\n",
      "Epoch 65/100\n",
      "536/536 [==============================] - 0s 927us/step - loss: 0.3305 - accuracy: 0.8630 - val_loss: 0.3645 - val_accuracy: 0.8512\n",
      "Epoch 66/100\n",
      "536/536 [==============================] - 1s 937us/step - loss: 0.3373 - accuracy: 0.8649 - val_loss: 0.3650 - val_accuracy: 0.8546\n",
      "Epoch 67/100\n",
      "536/536 [==============================] - 1s 975us/step - loss: 0.3284 - accuracy: 0.8607 - val_loss: 0.3628 - val_accuracy: 0.8557\n",
      "Epoch 68/100\n",
      "536/536 [==============================] - 1s 1ms/step - loss: 0.3164 - accuracy: 0.8689 - val_loss: 0.3624 - val_accuracy: 0.8550\n",
      "Epoch 69/100\n",
      "536/536 [==============================] - 0s 895us/step - loss: 0.3272 - accuracy: 0.8705 - val_loss: 0.3618 - val_accuracy: 0.8542\n",
      "Epoch 70/100\n",
      "536/536 [==============================] - 1s 1ms/step - loss: 0.3308 - accuracy: 0.8631 - val_loss: 0.3622 - val_accuracy: 0.8535\n",
      "Epoch 71/100\n",
      "536/536 [==============================] - 1s 1ms/step - loss: 0.3275 - accuracy: 0.8670 - val_loss: 0.3623 - val_accuracy: 0.8538\n",
      "Epoch 72/100\n",
      "536/536 [==============================] - ETA: 0s - loss: 0.3336 - accuracy: 0.86 - 1s 1ms/step - loss: 0.3333 - accuracy: 0.8641 - val_loss: 0.3614 - val_accuracy: 0.8535\n",
      "Epoch 73/100\n",
      "536/536 [==============================] - 0s 925us/step - loss: 0.3337 - accuracy: 0.8586 - val_loss: 0.3613 - val_accuracy: 0.8554\n",
      "Epoch 74/100\n",
      "536/536 [==============================] - 0s 915us/step - loss: 0.3214 - accuracy: 0.8679 - val_loss: 0.3623 - val_accuracy: 0.8554\n",
      "Epoch 75/100\n",
      "536/536 [==============================] - 0s 915us/step - loss: 0.3188 - accuracy: 0.8667 - val_loss: 0.3605 - val_accuracy: 0.8546\n",
      "Epoch 76/100\n",
      "536/536 [==============================] - 1s 1ms/step - loss: 0.3234 - accuracy: 0.8665 - val_loss: 0.3615 - val_accuracy: 0.8527\n",
      "Epoch 77/100\n",
      "536/536 [==============================] - 1s 955us/step - loss: 0.3340 - accuracy: 0.8642 - val_loss: 0.3629 - val_accuracy: 0.8516\n",
      "Epoch 78/100\n",
      "536/536 [==============================] - 1s 1ms/step - loss: 0.3314 - accuracy: 0.8691 - val_loss: 0.3628 - val_accuracy: 0.8523\n",
      "Epoch 79/100\n",
      "536/536 [==============================] - 1s 1ms/step - loss: 0.3502 - accuracy: 0.8558 - val_loss: 0.3621 - val_accuracy: 0.8557\n",
      "Epoch 80/100\n",
      "536/536 [==============================] - 1s 1ms/step - loss: 0.3375 - accuracy: 0.8616 - val_loss: 0.3616 - val_accuracy: 0.8531\n",
      "Epoch 81/100\n",
      "536/536 [==============================] - 1s 1ms/step - loss: 0.3295 - accuracy: 0.8648 - val_loss: 0.3640 - val_accuracy: 0.8519\n",
      "Epoch 82/100\n",
      "536/536 [==============================] - 1s 988us/step - loss: 0.3215 - accuracy: 0.8680 - val_loss: 0.3632 - val_accuracy: 0.8531\n",
      "Epoch 83/100\n",
      "536/536 [==============================] - 1s 1ms/step - loss: 0.3321 - accuracy: 0.8646 - val_loss: 0.3601 - val_accuracy: 0.8535\n",
      "Epoch 84/100\n",
      "536/536 [==============================] - 1s 1ms/step - loss: 0.3259 - accuracy: 0.8651 - val_loss: 0.3590 - val_accuracy: 0.8557\n",
      "Epoch 85/100\n",
      "536/536 [==============================] - 1s 966us/step - loss: 0.3265 - accuracy: 0.8703 - val_loss: 0.3611 - val_accuracy: 0.8573\n",
      "Epoch 86/100\n",
      "536/536 [==============================] - 1s 1ms/step - loss: 0.3264 - accuracy: 0.8657 - val_loss: 0.3622 - val_accuracy: 0.8546\n",
      "Epoch 87/100\n",
      "536/536 [==============================] - 1s 1ms/step - loss: 0.3131 - accuracy: 0.8717 - val_loss: 0.3637 - val_accuracy: 0.8531\n",
      "Epoch 88/100\n",
      "536/536 [==============================] - 1s 994us/step - loss: 0.3280 - accuracy: 0.8621 - val_loss: 0.3607 - val_accuracy: 0.8516\n",
      "Epoch 89/100\n",
      "536/536 [==============================] - 1s 1ms/step - loss: 0.3285 - accuracy: 0.8613 - val_loss: 0.3623 - val_accuracy: 0.8535\n",
      "Epoch 90/100\n",
      "536/536 [==============================] - 1s 1ms/step - loss: 0.3174 - accuracy: 0.8737 - val_loss: 0.3603 - val_accuracy: 0.8554\n",
      "Epoch 91/100\n",
      "536/536 [==============================] - 1s 987us/step - loss: 0.3329 - accuracy: 0.8573 - val_loss: 0.3601 - val_accuracy: 0.8554\n",
      "Epoch 92/100\n",
      "536/536 [==============================] - 1s 1ms/step - loss: 0.3254 - accuracy: 0.8697 - val_loss: 0.3665 - val_accuracy: 0.8474\n",
      "Epoch 93/100\n",
      "536/536 [==============================] - 1s 1ms/step - loss: 0.3238 - accuracy: 0.8668 - val_loss: 0.3630 - val_accuracy: 0.8550\n",
      "Epoch 94/100\n",
      "536/536 [==============================] - 1s 1ms/step - loss: 0.3145 - accuracy: 0.8698 - val_loss: 0.3600 - val_accuracy: 0.8546\n",
      "Epoch 95/100\n",
      "536/536 [==============================] - 1s 1ms/step - loss: 0.3102 - accuracy: 0.8740 - val_loss: 0.3603 - val_accuracy: 0.8542\n",
      "Epoch 96/100\n",
      "536/536 [==============================] - 1s 1ms/step - loss: 0.3327 - accuracy: 0.8636 - val_loss: 0.3631 - val_accuracy: 0.8535\n",
      "Epoch 97/100\n",
      "536/536 [==============================] - 1s 1ms/step - loss: 0.3284 - accuracy: 0.8672 - val_loss: 0.3625 - val_accuracy: 0.8565\n",
      "Epoch 98/100\n",
      "536/536 [==============================] - 1s 1ms/step - loss: 0.3214 - accuracy: 0.8675 - val_loss: 0.3638 - val_accuracy: 0.8516\n",
      "Epoch 99/100\n",
      "536/536 [==============================] - 1s 1ms/step - loss: 0.3371 - accuracy: 0.8584 - val_loss: 0.3616 - val_accuracy: 0.8535\n",
      "Epoch 100/100\n",
      "536/536 [==============================] - 1s 1ms/step - loss: 0.3127 - accuracy: 0.8692 - val_loss: 0.3636 - val_accuracy: 0.8523\n"
     ]
    }
   ],
   "source": [
    "# Fitting the ANN to the Training set\n",
    "model_history=classifier.fit(X_train, y_train,validation_split=0.33, batch_size = 10, epochs = 100)"
   ]
  },
  {
   "cell_type": "code",
   "execution_count": 13,
   "id": "3b49a563",
   "metadata": {},
   "outputs": [
    {
     "name": "stdout",
     "output_type": "stream",
     "text": [
      "dict_keys(['loss', 'accuracy', 'val_loss', 'val_accuracy'])\n"
     ]
    },
    {
     "data": {
      "image/png": "[encoded data removed]",
      "text/plain": [
       "<Figure size 432x288 with 1 Axes>"
      ]
     },
     "metadata": {
      "needs_background": "light"
     },
     "output_type": "display_data"
    }
   ],
   "source": [
    "print(model_history.history.keys())\n",
    "# summarize history for accuracy\n",
    "plt.plot(model_history.history['accuracy'])\n",
    "plt.plot(model_history.history['val_accuracy'])\n",
    "plt.title('model accuracy')\n",
    "plt.ylabel('accuracy')\n",
    "plt.xlabel('epoch')\n",
    "plt.legend(['train', 'test'], loc='upper left')\n",
    "plt.show()"
   ]
  },
  {
   "cell_type": "code",
   "execution_count": 14,
   "id": "230038c0",
   "metadata": {},
   "outputs": [
    {
     "data": {
      "image/png": "[encoded data removed]",
      "text/plain": [
       "<Figure size 432x288 with 1 Axes>"
      ]
     },
     "metadata": {
      "needs_background": "light"
     },
     "output_type": "display_data"
    }
   ],
   "source": [
    "# summarize history for loss\n",
    "plt.plot(model_history.history['loss'])\n",
    "plt.plot(model_history.history['val_loss'])\n",
    "plt.title('model loss')\n",
    "plt.ylabel('loss')\n",
    "plt.xlabel('epoch')\n",
    "plt.legend(['train', 'test'], loc='upper left')\n",
    "plt.show()"
   ]
  },
  {
   "cell_type": "code",
   "execution_count": 15,
   "id": "d23e0340",
   "metadata": {},
   "outputs": [],
   "source": [
    "# Part 3 - Making the predictions and evaluating the model\n",
    "\n",
    "# Predicting the Test set results\n",
    "y_pred = classifier.predict(X_test)\n",
    "y_pred = (y_pred > 0.5)"
   ]
  },
  {
   "cell_type": "code",
   "execution_count": 16,
   "id": "087ea8e0",
   "metadata": {},
   "outputs": [
    {
     "data": {
      "text/plain": [
       "array([[1511,   84],\n",
       "       [ 202,  203]], dtype=int64)"
      ]
     },
     "execution_count": 16,
     "metadata": {},
     "output_type": "execute_result"
    }
   ],
   "source": [
    "# Making the Confusion Matrix\n",
    "from sklearn.metrics import confusion_matrix\n",
    "cm = confusion_matrix(y_test, y_pred)\n",
    "cm"
   ]
  },
  {
   "cell_type": "code",
   "execution_count": 17,
   "id": "fbaced84",
   "metadata": {},
   "outputs": [
    {
     "data": {
      "text/plain": [
       "0.857"
      ]
     },
     "execution_count": 17,
     "metadata": {},
     "output_type": "execute_result"
    }
   ],
   "source": [
    "# Calculate the Accuracy\n",
    "from sklearn.metrics import accuracy_score\n",
    "score=accuracy_score(y_pred,y_test)\n",
    "score"
   ]
  },
  {
   "cell_type": "code",
   "execution_count": 18,
   "id": "898ef823",
   "metadata": {},
   "outputs": [],
   "source": [
    "#now to improve the model do hyperparameter tuning\n",
    "\n",
    "#always use dropout for very very deep neural network"
   ]
  },
  {
   "cell_type": "code",
   "execution_count": 19,
   "id": "165ac783",
   "metadata": {},
   "outputs": [],
   "source": [
    "## Perform Hyperparameter Optimization\n",
    "\n",
    "from keras.wrappers.scikit_learn import KerasClassifier\n",
    "from sklearn.model_selection import GridSearchCV\n",
    "\n",
    "from keras.models import Sequential\n",
    "from keras.layers import Dense, Activation, Embedding, Flatten, LeakyReLU, BatchNormalization, Dropout\n",
    "from keras.activations import relu, sigmoid"
   ]
  },
  {
   "cell_type": "code",
   "execution_count": 23,
   "id": "907cefee",
   "metadata": {},
   "outputs": [],
   "source": [
    "def create_model(layers, activation):\n",
    "    model = Sequential()\n",
    "    for i, nodes in enumerate(layers):\n",
    "        if i==0:\n",
    "            model.add(Dense(nodes,input_dim=X_train.shape[1]))\n",
    "            model.add(Activation(activation))\n",
    "            model.add(Dropout(0.3))\n",
    "        else:\n",
    "            model.add(Dense(nodes))\n",
    "            model.add(Activation(activation))\n",
    "            model.add(Dropout(0.3))\n",
    "            \n",
    "    model.add(Dense(units = 1, kernel_initializer= 'glorot_uniform', activation = 'sigmoid')) # Note: no activation beyond this point\n",
    "    \n",
    "    model.compile(optimizer='adam', loss='binary_crossentropy',metrics=['accuracy'])\n",
    "    return model"
   ]
  },
  {
   "cell_type": "code",
   "execution_count": 24,
   "id": "dcbf77c4",
   "metadata": {},
   "outputs": [],
   "source": [
    "model = KerasClassifier(build_fn=create_model, verbose=0)"
   ]
  },
  {
   "cell_type": "code",
   "execution_count": 25,
   "id": "4b8ca9bf",
   "metadata": {},
   "outputs": [],
   "source": [
    "layers = [[20], [40, 20], [45, 30, 15]]\n",
    "activations = ['sigmoid', 'relu']\n",
    "param_grid = dict(layers=layers, activation=activations, batch_size = [128, 256], epochs=[30])\n",
    "grid = GridSearchCV(estimator=model, param_grid=param_grid,cv=5)"
   ]
  },
  {
   "cell_type": "code",
   "execution_count": 27,
   "id": "e498437e",
   "metadata": {},
   "outputs": [],
   "source": [
    "grid_result = grid.fit(X_train, y_train)"
   ]
  },
  {
   "cell_type": "code",
   "execution_count": 28,
   "id": "875dc643",
   "metadata": {},
   "outputs": [
    {
     "name": "stdout",
     "output_type": "stream",
     "text": [
      "0.856249988079071 {'activation': 'relu', 'batch_size': 128, 'epochs': 30, 'layers': [40, 20]}\n"
     ]
    }
   ],
   "source": [
    "print(grid_result.best_score_, grid_result.best_params_)"
   ]
  },
  {
   "cell_type": "code",
   "execution_count": 29,
   "id": "4805d2fe",
   "metadata": {},
   "outputs": [
    {
     "name": "stderr",
     "output_type": "stream",
     "text": [
      "C:\\Users\\User\\anaconda3\\lib\\site-packages\\keras\\engine\\sequential.py:450: UserWarning: `model.predict_classes()` is deprecated and will be removed after 2021-01-01. Please use instead:* `np.argmax(model.predict(x), axis=-1)`,   if your model does multi-class classification   (e.g. if it uses a `softmax` last-layer activation).* `(model.predict(x) > 0.5).astype(\"int32\")`,   if your model does binary classification   (e.g. if it uses a `sigmoid` last-layer activation).\n",
      "  warnings.warn('`model.predict_classes()` is deprecated and '\n"
     ]
    }
   ],
   "source": [
    "# Predicting the Test set results\n",
    "y_pred = grid.predict(X_test)\n",
    "y_pred = (y_pred > 0.5)"
   ]
  },
  {
   "cell_type": "code",
   "execution_count": 30,
   "id": "8a433082",
   "metadata": {},
   "outputs": [
    {
     "data": {
      "text/plain": [
       "array([[1529,   66],\n",
       "       [ 211,  194]], dtype=int64)"
      ]
     },
     "execution_count": 30,
     "metadata": {},
     "output_type": "execute_result"
    }
   ],
   "source": [
    "# Making the Confusion Matrix\n",
    "from sklearn.metrics import confusion_matrix\n",
    "cm = confusion_matrix(y_test, y_pred)\n",
    "cm"
   ]
  },
  {
   "cell_type": "code",
   "execution_count": 31,
   "id": "7ec10c34",
   "metadata": {},
   "outputs": [
    {
     "data": {
      "text/plain": [
       "0.8615"
      ]
     },
     "execution_count": 31,
     "metadata": {},
     "output_type": "execute_result"
    }
   ],
   "source": [
    "# Calculate the Accuracy\n",
    "from sklearn.metrics import accuracy_score\n",
    "score=accuracy_score(y_pred,y_test)\n",
    "score"
   ]
  },
  {
   "cell_type": "code",
   "execution_count": 34,
   "id": "9d0a9782",
   "metadata": {},
   "outputs": [
    {
     "name": "stdout",
     "output_type": "stream",
     "text": [
      "(2000,)\n",
      "(2000, 1)\n"
     ]
    },
    {
     "data": {
      "text/plain": [
       "(None, None)"
      ]
     },
     "execution_count": 34,
     "metadata": {},
     "output_type": "execute_result"
    }
   ],
   "source": [
    "print(y_test.shape), print(y_pred.shape)"
   ]
  },
  {
   "cell_type": "code",
   "execution_count": 42,
   "id": "c0f34213",
   "metadata": {},
   "outputs": [],
   "source": [
    "data = pd.DataFrame(X_test, columns = ['CreditScore', 'Age', 'Tenure', 'Balance', 'NumOfProducts', 'HasCrCard',\n",
    "       'IsActiveMember', 'EstimatedSalary', 'German', 'Spain', 'Male'])"
   ]
  },
  {
   "cell_type": "code",
   "execution_count": 44,
   "id": "a488869f",
   "metadata": {},
   "outputs": [],
   "source": [
    "data['exited'] = y_pred"
   ]
  },
  {
   "cell_type": "code",
   "execution_count": 46,
   "id": "1b752c61",
   "metadata": {},
   "outputs": [
    {
     "data": {
      "text/plain": [
       "False    1740\n",
       "True      260\n",
       "Name: exited, dtype: int64"
      ]
     },
     "execution_count": 46,
     "metadata": {},
     "output_type": "execute_result"
    }
   ],
   "source": [
    "data['exited'].value_counts()"
   ]
  },
  {
   "cell_type": "code",
   "execution_count": 47,
   "id": "490ab792",
   "metadata": {},
   "outputs": [
    {
     "data": {
      "text/html": [
       "<div>\n",
       "<style scoped>\n",
       "    .dataframe tbody tr th:only-of-type {\n",
       "        vertical-align: middle;\n",
       "    }\n",
       "\n",
       "    .dataframe tbody tr th {\n",
       "        vertical-align: top;\n",
       "    }\n",
       "\n",
       "    .dataframe thead th {\n",
       "        text-align: right;\n",
       "    }\n",
       "</style>\n",
       "<table border=\"1\" class=\"dataframe\">\n",
       "  <thead>\n",
       "    <tr style=\"text-align: right;\">\n",
       "      <th></th>\n",
       "      <th>CreditScore</th>\n",
       "      <th>Age</th>\n",
       "      <th>Tenure</th>\n",
       "      <th>Balance</th>\n",
       "      <th>NumOfProducts</th>\n",
       "      <th>HasCrCard</th>\n",
       "      <th>IsActiveMember</th>\n",
       "      <th>EstimatedSalary</th>\n",
       "      <th>German</th>\n",
       "      <th>Spain</th>\n",
       "      <th>Male</th>\n",
       "      <th>exited</th>\n",
       "    </tr>\n",
       "  </thead>\n",
       "  <tbody>\n",
       "    <tr>\n",
       "      <th>0</th>\n",
       "      <td>-0.552043</td>\n",
       "      <td>-0.368904</td>\n",
       "      <td>1.044737</td>\n",
       "      <td>0.879303</td>\n",
       "      <td>-0.921591</td>\n",
       "      <td>0.642595</td>\n",
       "      <td>0.968738</td>\n",
       "      <td>1.610857</td>\n",
       "      <td>1.754865</td>\n",
       "      <td>-0.573694</td>\n",
       "      <td>-1.091687</td>\n",
       "      <td>False</td>\n",
       "    </tr>\n",
       "    <tr>\n",
       "      <th>1</th>\n",
       "      <td>-1.314903</td>\n",
       "      <td>0.109617</td>\n",
       "      <td>-1.031415</td>\n",
       "      <td>0.429722</td>\n",
       "      <td>-0.921591</td>\n",
       "      <td>0.642595</td>\n",
       "      <td>-1.032270</td>\n",
       "      <td>0.495870</td>\n",
       "      <td>-0.569844</td>\n",
       "      <td>-0.573694</td>\n",
       "      <td>-1.091687</td>\n",
       "      <td>False</td>\n",
       "    </tr>\n",
       "    <tr>\n",
       "      <th>2</th>\n",
       "      <td>0.571630</td>\n",
       "      <td>0.301026</td>\n",
       "      <td>1.044737</td>\n",
       "      <td>0.308583</td>\n",
       "      <td>-0.921591</td>\n",
       "      <td>0.642595</td>\n",
       "      <td>0.968738</td>\n",
       "      <td>-0.424787</td>\n",
       "      <td>-0.569844</td>\n",
       "      <td>1.743090</td>\n",
       "      <td>-1.091687</td>\n",
       "      <td>False</td>\n",
       "    </tr>\n",
       "    <tr>\n",
       "      <th>3</th>\n",
       "      <td>1.416961</td>\n",
       "      <td>-0.656016</td>\n",
       "      <td>-0.339364</td>\n",
       "      <td>0.575336</td>\n",
       "      <td>-0.921591</td>\n",
       "      <td>-1.556190</td>\n",
       "      <td>-1.032270</td>\n",
       "      <td>-0.187777</td>\n",
       "      <td>-0.569844</td>\n",
       "      <td>-0.573694</td>\n",
       "      <td>0.916013</td>\n",
       "      <td>False</td>\n",
       "    </tr>\n",
       "    <tr>\n",
       "      <th>4</th>\n",
       "      <td>0.571630</td>\n",
       "      <td>-0.081791</td>\n",
       "      <td>0.006661</td>\n",
       "      <td>1.389611</td>\n",
       "      <td>0.809503</td>\n",
       "      <td>0.642595</td>\n",
       "      <td>0.968738</td>\n",
       "      <td>0.616842</td>\n",
       "      <td>1.754865</td>\n",
       "      <td>-0.573694</td>\n",
       "      <td>0.916013</td>\n",
       "      <td>False</td>\n",
       "    </tr>\n",
       "    <tr>\n",
       "      <th>5</th>\n",
       "      <td>0.200509</td>\n",
       "      <td>1.736588</td>\n",
       "      <td>-0.685390</td>\n",
       "      <td>1.590021</td>\n",
       "      <td>0.809503</td>\n",
       "      <td>0.642595</td>\n",
       "      <td>-1.032270</td>\n",
       "      <td>-0.019302</td>\n",
       "      <td>-0.569844</td>\n",
       "      <td>1.743090</td>\n",
       "      <td>-1.091687</td>\n",
       "      <td>True</td>\n",
       "    </tr>\n",
       "    <tr>\n",
       "      <th>6</th>\n",
       "      <td>-0.624205</td>\n",
       "      <td>-0.464608</td>\n",
       "      <td>-1.723466</td>\n",
       "      <td>-0.164023</td>\n",
       "      <td>0.809503</td>\n",
       "      <td>-1.556190</td>\n",
       "      <td>0.968738</td>\n",
       "      <td>1.045871</td>\n",
       "      <td>-0.569844</td>\n",
       "      <td>1.743090</td>\n",
       "      <td>0.916013</td>\n",
       "      <td>False</td>\n",
       "    </tr>\n",
       "    <tr>\n",
       "      <th>7</th>\n",
       "      <td>-0.149995</td>\n",
       "      <td>-0.943129</td>\n",
       "      <td>0.352686</td>\n",
       "      <td>1.302385</td>\n",
       "      <td>0.809503</td>\n",
       "      <td>0.642595</td>\n",
       "      <td>0.968738</td>\n",
       "      <td>0.016166</td>\n",
       "      <td>-0.569844</td>\n",
       "      <td>1.743090</td>\n",
       "      <td>-1.091687</td>\n",
       "      <td>False</td>\n",
       "    </tr>\n",
       "    <tr>\n",
       "      <th>8</th>\n",
       "      <td>-0.541734</td>\n",
       "      <td>2.406518</td>\n",
       "      <td>1.390762</td>\n",
       "      <td>-1.215717</td>\n",
       "      <td>-0.921591</td>\n",
       "      <td>-1.556190</td>\n",
       "      <td>0.968738</td>\n",
       "      <td>-1.511970</td>\n",
       "      <td>-0.569844</td>\n",
       "      <td>-0.573694</td>\n",
       "      <td>-1.091687</td>\n",
       "      <td>False</td>\n",
       "    </tr>\n",
       "    <tr>\n",
       "      <th>9</th>\n",
       "      <td>-2.005601</td>\n",
       "      <td>2.310814</td>\n",
       "      <td>-1.377440</td>\n",
       "      <td>1.426618</td>\n",
       "      <td>0.809503</td>\n",
       "      <td>-1.556190</td>\n",
       "      <td>-1.032270</td>\n",
       "      <td>0.705412</td>\n",
       "      <td>-0.569844</td>\n",
       "      <td>-0.573694</td>\n",
       "      <td>-1.091687</td>\n",
       "      <td>True</td>\n",
       "    </tr>\n",
       "  </tbody>\n",
       "</table>\n",
       "</div>"
      ],
      "text/plain": [
       "   CreditScore       Age    Tenure   Balance  NumOfProducts  HasCrCard  \\\n",
       "0    -0.552043 -0.368904  1.044737  0.879303      -0.921591   0.642595   \n",
       "1    -1.314903  0.109617 -1.031415  0.429722      -0.921591   0.642595   \n",
       "2     0.571630  0.301026  1.044737  0.308583      -0.921591   0.642595   \n",
       "3     1.416961 -0.656016 -0.339364  0.575336      -0.921591  -1.556190   \n",
       "4     0.571630 -0.081791  0.006661  1.389611       0.809503   0.642595   \n",
       "5     0.200509  1.736588 -0.685390  1.590021       0.809503   0.642595   \n",
       "6    -0.624205 -0.464608 -1.723466 -0.164023       0.809503  -1.556190   \n",
       "7    -0.149995 -0.943129  0.352686  1.302385       0.809503   0.642595   \n",
       "8    -0.541734  2.406518  1.390762 -1.215717      -0.921591  -1.556190   \n",
       "9    -2.005601  2.310814 -1.377440  1.426618       0.809503  -1.556190   \n",
       "\n",
       "   IsActiveMember  EstimatedSalary    German     Spain      Male  exited  \n",
       "0        0.968738         1.610857  1.754865 -0.573694 -1.091687   False  \n",
       "1       -1.032270         0.495870 -0.569844 -0.573694 -1.091687   False  \n",
       "2        0.968738        -0.424787 -0.569844  1.743090 -1.091687   False  \n",
       "3       -1.032270        -0.187777 -0.569844 -0.573694  0.916013   False  \n",
       "4        0.968738         0.616842  1.754865 -0.573694  0.916013   False  \n",
       "5       -1.032270        -0.019302 -0.569844  1.743090 -1.091687    True  \n",
       "6        0.968738         1.045871 -0.569844  1.743090  0.916013   False  \n",
       "7        0.968738         0.016166 -0.569844  1.743090 -1.091687   False  \n",
       "8        0.968738        -1.511970 -0.569844 -0.573694 -1.091687   False  \n",
       "9       -1.032270         0.705412 -0.569844 -0.573694 -1.091687    True  "
      ]
     },
     "execution_count": 47,
     "metadata": {},
     "output_type": "execute_result"
    }
   ],
   "source": [
    "data.head(10)"
   ]
  },
  {
   "cell_type": "code",
   "execution_count": null,
   "id": "7f44931e",
   "metadata": {},
   "outputs": [],
   "source": []
  }
 ],
 "metadata": {
  "kernelspec": {
   "display_name": "Python 3",
   "language": "python",
   "name": "python3"
  },
  "language_info": {
   "codemirror_mode": {
    "name": "ipython",
    "version": 3
   },
   "file_extension": ".py",
   "mimetype": "text/x-python",
   "name": "python",
   "nbconvert_exporter": "python",
   "pygments_lexer": "ipython3",
   "version": "3.8.8"
  }
 },
 "nbformat": 4,
 "nbformat_minor": 5
}
